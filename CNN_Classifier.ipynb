{
  "nbformat": 4,
  "nbformat_minor": 0,
  "metadata": {
    "colab": {
      "provenance": []
    },
    "kernelspec": {
      "name": "python3",
      "display_name": "Python 3"
    },
    "language_info": {
      "name": "python"
    }
  },
  "cells": [
    {
      "cell_type": "code",
      "execution_count": null,
      "metadata": {
        "id": "cQQDoCsrfiKt"
      },
      "outputs": [],
      "source": [
        "import os\n",
        "import tensorflow as tf\n",
        "from tensorflow.keras.models import Sequential, load_model\n",
        "from tensorflow.image import resize\n",
        "import numpy as np\n",
        "from tensorflow.keras.preprocessing.image import load_img, img_to_array"
      ]
    },
    {
      "cell_type": "code",
      "source": [
        "# Load the pretrained CNN models\n",
        "eye_model = load_model(\"/content/eye.h5\")\n",
        "alzheimer_model = load_model(\"/content/Alzehmeir_Disease.h5\")\n",
        "skin_model = load_model(\"/content/skin_model.h5\")  # New skin model"
      ],
      "metadata": {
        "id": "Y5uBI8FIf-Z5"
      },
      "execution_count": null,
      "outputs": []
    },
    {
      "cell_type": "code",
      "source": [
        "# Function to preprocess input image for the eye model\n",
        "def preprocess_eye_image(image_path, target_size):\n",
        "    img = load_img(image_path, target_size=target_size)\n",
        "    img_array = img_to_array(img)\n",
        "    img_array = img_array / 255.0  # Normalize pixel values\n",
        "    img_array = tf.expand_dims(img_array, axis=0)  # Add batch dimension\n",
        "    return img_array"
      ],
      "metadata": {
        "id": "srZcUj-igmSF"
      },
      "execution_count": null,
      "outputs": []
    },
    {
      "cell_type": "code",
      "source": [
        "# Function to preprocess input image for the Alzheimer model\n",
        "def preprocess_alzheimer_image(image_path, target_size):\n",
        "    img = load_img(image_path, target_size=target_size)\n",
        "    img_array = img_to_array(img)\n",
        "    img_array = img_array / 255.0  # Normalize pixel values\n",
        "    img_array = tf.expand_dims(img_array, axis=0)  # Add batch dimension\n",
        "    return img_array"
      ],
      "metadata": {
        "id": "I6fMzUzGJ56j"
      },
      "execution_count": null,
      "outputs": []
    },
    {
      "cell_type": "code",
      "source": [
        "# Function to preprocess input image for the skin model\n",
        "def preprocess_skin_image(image_path, target_size):\n",
        "    img = load_img(image_path, target_size=target_size)\n",
        "    img_array = img_to_array(img)\n",
        "    img_array = img_array / 255.0  # Normalize pixel values\n",
        "    img_array = tf.expand_dims(img_array, axis=0)  # Add batch dimension\n",
        "    return img_array"
      ],
      "metadata": {
        "id": "NodnHhh9tg_t"
      },
      "execution_count": null,
      "outputs": []
    },
    {
      "cell_type": "code",
      "source": [
        "# Function to make predictions for Eye model\n",
        "def predict_eye(image_array):\n",
        "    eye_prediction = eye_model.predict(image_array)\n",
        "    print(\"Eye prediction:\", eye_prediction)"
      ],
      "metadata": {
        "id": "Gqy0McClyMDH"
      },
      "execution_count": null,
      "outputs": []
    },
    {
      "cell_type": "code",
      "source": [
        "# Function to make predictions for Alzheimer model\n",
        "def predict_alzheimer(image_array):\n",
        "    alzheimer_prediction = alzheimer_model.predict(image_array)\n",
        "    print(\"Alzheimer prediction:\", alzheimer_prediction)\n",
        "\n"
      ],
      "metadata": {
        "id": "Hg7TGHGfyMKK"
      },
      "execution_count": null,
      "outputs": []
    },
    {
      "cell_type": "code",
      "source": [
        "# Function to make predictions for Skin model\n",
        "def predict_skin(image_array):\n",
        "    skin_prediction = skin_model.predict(image_array)\n",
        "    print(\"Skin prediction:\", skin_prediction)\n"
      ],
      "metadata": {
        "id": "sYaj_Alltxkr"
      },
      "execution_count": null,
      "outputs": []
    },
    {
      "cell_type": "code",
      "source": [
        "# Function to determine image type based on filename\n",
        "def get_image_type(image_path):\n",
        "    image_name = os.path.basename(image_path).lower()\n",
        "    if \"eye\" in image_name:\n",
        "        return \"eye\"\n",
        "    elif \"alzheimer\" in image_name:\n",
        "        return \"alzheimer\"\n",
        "    elif \"skin\" in image_name:  # Check for skin image\n",
        "        return \"skin\"\n",
        "    else:\n",
        "        return None"
      ],
      "metadata": {
        "id": "kaFxBJFZtzXz"
      },
      "execution_count": null,
      "outputs": []
    },
    {
      "cell_type": "code",
      "source": [
        "# Path to the input image\n",
        "input_image_path = \"/content/skin.jpg\"  # Replace with the path to your input image\n",
        "\n"
      ],
      "metadata": {
        "id": "eUh8dmTmpWsM"
      },
      "execution_count": null,
      "outputs": []
    },
    {
      "cell_type": "code",
      "source": [
        "# Disease labels\n",
        "eye_class_names = ['cataract', 'diabetic_retinopathy', 'glaucoma', 'normal']\n",
        "alzheimer_class_names = ['Moderate_Demented', 'Non_Demented', 'veryMild_Demented', 'Mild_Demented']\n",
        "skin_class_names = ['AtopicDermatitis']  # Updated skin disease label"
      ],
      "metadata": {
        "id": "qichXnwct3Ia"
      },
      "execution_count": null,
      "outputs": []
    },
    {
      "cell_type": "code",
      "source": [
        "# Determine the type of input image (eye, Alzheimer, or skin)\n",
        "try:\n",
        "    image_type = get_image_type(input_image_path)\n",
        "    if image_type == \"eye\":\n",
        "        # Resize image for the eye model\n",
        "        resized_image = preprocess_image(input_image_path, (224, 224))\n",
        "        # Make predictions using the eye model\n",
        "        predict_eye(resized_image)\n",
        "        # Get the predicted class index and label\n",
        "        eye_predicted_class_index = np.argmax(predict_eye(resized_image))\n",
        "        eye_predicted_class_label = eye_class_names[eye_predicted_class_index]\n",
        "        print(\"Predicted eye disease class:\", eye_predicted_class_label)\n",
        "    elif image_type == \"alzheimer\":\n",
        "        # Resize image for the Alzheimer model\n",
        "        resized_image = preprocess_image(input_image_path, (176, 176))\n",
        "        # Make predictions using the Alzheimer model\n",
        "        predict_alzheimer(resized_image)\n",
        "        # Get the predicted class index and label\n",
        "        alzheimer_predicted_class_index = np.argmax(predict_alzheimer(resized_image))\n",
        "        alzheimer_predicted_class_label = alzheimer_class_names[alzheimer_predicted_class_index]\n",
        "        print(\"Predicted Alzheimer's disease class:\", alzheimer_predicted_class_label)\n",
        "    elif image_type == \"skin\":  # New condition for skin model\n",
        "        # Resize image for the skin model\n",
        "        resized_image = preprocess_image(input_image_path, (256, 256))\n",
        "        # Make predictions using the skin model\n",
        "        predict_skin(resized_image)\n",
        "        # Get the predicted class index and label\n",
        "        skin_predicted_class_index = np.argmax(predict_skin(resized_image))\n",
        "        skin_predicted_class_label = skin_class_names[skin_predicted_class_index]\n",
        "        print(\"Predicted skin disease class:\", skin_predicted_class_label)\n",
        "    else:\n",
        "        print(\"Invalid image type. Please ensure the filename contains 'eye', 'alzheimer', or 'skin'.\")\n",
        "except ValueError as e:\n",
        "    print(e)"
      ],
      "metadata": {
        "colab": {
          "base_uri": "https://localhost:8080/"
        },
        "id": "slfhiJHFJXVd",
        "outputId": "116e70ba-e22e-4bab-b574-b6ce2faff27c"
      },
      "execution_count": null,
      "outputs": [
        {
          "output_type": "stream",
          "name": "stdout",
          "text": [
            "1/1 [==============================] - 0s 191ms/step\n",
            "Skin prediction: [[1.9311765e-25]]\n",
            "1/1 [==============================] - 0s 57ms/step\n",
            "Skin prediction: [[1.9311765e-25]]\n",
            "Predicted skin disease class: AtopicDermatitis\n"
          ]
        }
      ]
    },
    {
      "cell_type": "code",
      "source": [],
      "metadata": {
        "id": "2yKdL2nbeNF3"
      },
      "execution_count": null,
      "outputs": []
    }
  ]
}